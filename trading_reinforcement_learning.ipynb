{
 "cells": [
  {
   "cell_type": "markdown",
   "metadata": {},
   "source": [
    "# Reinforcement Learning for Trading"
   ]
  },
  {
   "cell_type": "markdown",
   "metadata": {},
   "source": [
    "The goal of reinforcement learning is to maximize the reward, in this case the profit on trading, the difference between the price we buy and the price we sell. We need to set our **enviroment** as a **Markov Desicion Process**, the state of enviroment is consequence of the previous state. We are training an **agent** that interacts with the enviroment, making decisions, called actions, at each state. We want to maximize the reward across the episodes. We want to find a **good strategy** or in other words, a good **policy**.<br>\n",
    "If we know the rewards that each action will perform, then we can take actions to maximize that reward. The Q-learning will help us find the best action under certain states, since finding what actions to take might be complicated we will use deep learning.\n",
    "### Each day (observation) is going to be a different step. \n",
    "For the train enviroment we will use 1612 steps since we are taking information from 2014 all to 2020 and for test enviroment we will use 150 steps, we can also call it days.\n",
    "I will use 3 stocks: \n",
    "* Lowes, home improvement store.\n",
    "* NVDA, nvidia which is a hardware tech company.\n",
    "* JPM, J. P. Morgan Chase, basically a financial service company.\n",
    "<br>\n",
    "\n",
    "Remember we can buy (0), sell (1) or hold (2), in other words **3 possible actions**. The combinations of those possible actions are the amount of stocks to the power of the possible actions, straightforward 3³, that is 27 different actions. For example, we can buy all of our shares, or sell all but one, etc.<br>\n",
    "As in the portfolio creation notebook we are going to have a 1000000 budget and we need to allocate it.<br>\n",
    "For each stock **state** (we handle all 3 together) we include the current price, the amount of stocks owned and the current budget. \n",
    "The deep Q-network script was modified from the banana-navigator project from the Udacity Deep Reinforcement Learning implemented in **pytorch** (https://github.com/mauriciomani/Navigation-banana-collector). It was only modified the neural network adding a normalization layer, since our env is not normalized and would be good to implement."
   ]
  },
  {
   "cell_type": "code",
   "execution_count": 9,
   "metadata": {},
   "outputs": [],
   "source": [
    "import pandas as pd\n",
    "import numpy as np\n",
    "from collections import deque\n",
    "#Be able to plot data\n",
    "import matplotlib.pyplot as plt\n",
    "#to save pytorch model\n",
    "import torch\n",
    "from env import Enviroment\n",
    "import os\n",
    "import seaborn as sns"
   ]
  },
  {
   "cell_type": "code",
   "execution_count": 2,
   "metadata": {},
   "outputs": [],
   "source": [
    "path = \"RL_data/\"\n",
    "codes = os.listdir(path)\n",
    "all_df = pd.DataFrame()\n",
    "for nombre in codes:\n",
    "    try:\n",
    "        df = pd.read_csv(path + nombre)\n",
    "        df.set_index('Date', inplace = True)\n",
    "        df.rename(columns = {'Adj Close': nombre}, inplace = True)\n",
    "        all_df = all_df.join(df[[nombre]], how='outer')\n",
    "    except:\n",
    "        print(\"Warning: Stock: \" + nombre + \" Cannot be find with that name\")\n",
    "        pass\n",
    "all_df.to_csv('rl_data.csv')"
   ]
  },
  {
   "cell_type": "code",
   "execution_count": 2,
   "metadata": {},
   "outputs": [],
   "source": [
    "init_money = 1000000\n",
    "num_stocks = 3\n",
    "action_space = num_stocks ** 3\n",
    "state_space = (num_stocks * 2) + 1"
   ]
  },
  {
   "cell_type": "code",
   "execution_count": 3,
   "metadata": {},
   "outputs": [
    {
     "data": {
      "text/html": [
       "<div>\n",
       "<style scoped>\n",
       "    .dataframe tbody tr th:only-of-type {\n",
       "        vertical-align: middle;\n",
       "    }\n",
       "\n",
       "    .dataframe tbody tr th {\n",
       "        vertical-align: top;\n",
       "    }\n",
       "\n",
       "    .dataframe thead th {\n",
       "        text-align: right;\n",
       "    }\n",
       "</style>\n",
       "<table border=\"1\" class=\"dataframe\">\n",
       "  <thead>\n",
       "    <tr style=\"text-align: right;\">\n",
       "      <th></th>\n",
       "      <th>LOW.csv</th>\n",
       "      <th>NVDA.csv</th>\n",
       "      <th>JPM.csv</th>\n",
       "    </tr>\n",
       "    <tr>\n",
       "      <th>Date</th>\n",
       "      <th></th>\n",
       "      <th></th>\n",
       "      <th></th>\n",
       "    </tr>\n",
       "  </thead>\n",
       "  <tbody>\n",
       "    <tr>\n",
       "      <th>2014-01-02</th>\n",
       "      <td>43.691132</td>\n",
       "      <td>14.996614</td>\n",
       "      <td>47.986519</td>\n",
       "    </tr>\n",
       "    <tr>\n",
       "      <th>2014-01-03</th>\n",
       "      <td>43.258118</td>\n",
       "      <td>14.816958</td>\n",
       "      <td>48.357494</td>\n",
       "    </tr>\n",
       "    <tr>\n",
       "      <th>2014-01-06</th>\n",
       "      <td>42.648346</td>\n",
       "      <td>15.015525</td>\n",
       "      <td>48.637775</td>\n",
       "    </tr>\n",
       "    <tr>\n",
       "      <th>2014-01-07</th>\n",
       "      <td>42.754391</td>\n",
       "      <td>15.261368</td>\n",
       "      <td>48.077198</td>\n",
       "    </tr>\n",
       "    <tr>\n",
       "      <th>2014-01-08</th>\n",
       "      <td>42.904621</td>\n",
       "      <td>15.469398</td>\n",
       "      <td>48.530605</td>\n",
       "    </tr>\n",
       "  </tbody>\n",
       "</table>\n",
       "</div>"
      ],
      "text/plain": [
       "              LOW.csv   NVDA.csv    JPM.csv\n",
       "Date                                       \n",
       "2014-01-02  43.691132  14.996614  47.986519\n",
       "2014-01-03  43.258118  14.816958  48.357494\n",
       "2014-01-06  42.648346  15.015525  48.637775\n",
       "2014-01-07  42.754391  15.261368  48.077198\n",
       "2014-01-08  42.904621  15.469398  48.530605"
      ]
     },
     "execution_count": 3,
     "metadata": {},
     "output_type": "execute_result"
    }
   ],
   "source": [
    "all_df = pd.read_csv('rl_data.csv', index_col = \"Date\")[[\"LOW.csv\", \"NVDA.csv\", \"JPM.csv\"]]\n",
    "all_df.head()"
   ]
  },
  {
   "cell_type": "code",
   "execution_count": 4,
   "metadata": {},
   "outputs": [],
   "source": [
    "portfolio_train = all_df.iloc[:-150]\n",
    "portfolio_test = all_df.iloc[-150:]"
   ]
  },
  {
   "cell_type": "code",
   "execution_count": 5,
   "metadata": {},
   "outputs": [],
   "source": [
    "env = Enviroment(portfolio_train, init_money)"
   ]
  },
  {
   "cell_type": "markdown",
   "metadata": {},
   "source": [
    "### State space\n",
    "We have the first 3 values representing the amount of stocks we have when the enviroment has been reset, the next 3 values represents the rounded adjusted closing price and finally we have the amount of cash we have, for total 7 values.<br>\n",
    "For more information on how the enviroment works, kindly look at env.py script, that was specifically created for this.<br>\n",
    "Below can be found the rewards for **random decisions** on the test set, this will also help us decide about current values on test using RL."
   ]
  },
  {
   "cell_type": "code",
   "execution_count": 10,
   "metadata": {},
   "outputs": [
    {
     "data": {
      "text/plain": [
       "(1612, 3)"
      ]
     },
     "execution_count": 10,
     "metadata": {},
     "output_type": "execute_result"
    }
   ],
   "source": [
    "portfolio_train.shape"
   ]
  },
  {
   "cell_type": "code",
   "execution_count": 6,
   "metadata": {},
   "outputs": [
    {
     "data": {
      "text/plain": [
       "[0, 0, 0, 44.0, 15.0, 48.0, 1000000]"
      ]
     },
     "execution_count": 6,
     "metadata": {},
     "output_type": "execute_result"
    }
   ],
   "source": [
    "info = env.reset()\n",
    "info"
   ]
  },
  {
   "cell_type": "code",
   "execution_count": 5,
   "metadata": {},
   "outputs": [],
   "source": [
    "rewards = []\n",
    "for i in range(2000):\n",
    "    env = Enviroment(portfolio_test, init_money)\n",
    "    state = env.reset()                                               # get the current state\n",
    "    score = []                                                        # initialize the score\n",
    "    while True:\n",
    "        action = np.random.choice(list(range(0, action_space)))       # select an action\n",
    "        env_info = env.step(action)                                   # send the action to the environment\n",
    "        next_state = env_info[0]                                         # get the next state\n",
    "        reward = env_info[1]                                           # get the reward\n",
    "        done = env_info[-1]                                           # see if episode has finished\n",
    "        score.append(reward)                                          # update the score\n",
    "        state = next_state                                            # roll over the state to next time step\n",
    "        if done:                                                      # exit loop if episode finished\n",
    "            break\n",
    "    rewards.append(sum(score))"
   ]
  },
  {
   "cell_type": "code",
   "execution_count": 10,
   "metadata": {},
   "outputs": [
    {
     "data": {
      "text/plain": [
       "[Text(0.5, 0, '')]"
      ]
     },
     "execution_count": 10,
     "metadata": {},
     "output_type": "execute_result"
    },
    {
     "data": {
      "image/png": "[encoded data removed]",
      "text/plain": [
       "<Figure size 432x288 with 2 Axes>"
      ]
     },
     "metadata": {
      "needs_background": "light"
     },
     "output_type": "display_data"
    }
   ],
   "source": [
    "# Cut the window in 2 parts\n",
    "f, (ax_box, ax_hist) = plt.subplots(2, sharex=True, gridspec_kw={\"height_ratios\": (.15, .85)})\n",
    " \n",
    "# Add a graph in each part\n",
    "sns.boxplot(np.array(rewards), ax=ax_box)\n",
    "sns.distplot(np.array(rewards), ax=ax_hist)\n",
    " \n",
    "# Remove x axis name for the boxplot\n",
    "ax_box.set(xlabel='')"
   ]
  },
  {
   "cell_type": "code",
   "execution_count": 11,
   "metadata": {},
   "outputs": [
    {
     "data": {
      "text/plain": [
       "301329.7375"
      ]
     },
     "execution_count": 11,
     "metadata": {},
     "output_type": "execute_result"
    }
   ],
   "source": [
    "#mean rewards\n",
    "np.array(rewards).mean()"
   ]
  },
  {
   "cell_type": "code",
   "execution_count": 17,
   "metadata": {},
   "outputs": [
    {
     "data": {
      "text/plain": [
       "526759.4599999998"
      ]
     },
     "execution_count": 17,
     "metadata": {},
     "output_type": "execute_result"
    }
   ],
   "source": [
    "np.quantile(np.array(rewards), 0.83)"
   ]
  },
  {
   "cell_type": "code",
   "execution_count": 5,
   "metadata": {},
   "outputs": [
    {
     "name": "stderr",
     "output_type": "stream",
     "text": [
      "/home/mauriciomani/anaconda3/lib/python3.8/site-packages/torch/cuda/__init__.py:52: UserWarning: CUDA initialization: CUDA unknown error - this may be due to an incorrectly set up environment, e.g. changing env variable CUDA_VISIBLE_DEVICES after program start. Setting the available devices to be zero. (Triggered internally at  /opt/conda/conda-bld/pytorch_1603729062494/work/c10/cuda/CUDAFunctions.cpp:100.)\n",
      "  return torch._C._cuda_getDeviceCount() > 0\n"
     ]
    },
    {
     "name": "stdout",
     "output_type": "stream",
     "text": [
      "Episode 50\tAverage Score: 3724580.00\n",
      "Episode 100\tAverage Score: 4122233.98\n",
      "Episode 150\tAverage Score: 4344864.96\n",
      "Episode 200\tAverage Score: 6150775.77\n",
      "Episode 250\tAverage Score: 7959622.78\n",
      "Episode 300\tAverage Score: 7848065.07\n",
      "Episode 350\tAverage Score: 8037804.36\n",
      "Episode 400\tAverage Score: 8238148.47\n",
      "Episode 450\tAverage Score: 8385414.88\n",
      "Episode 500\tAverage Score: 10160874.12\n",
      "Episode 550\tAverage Score: 12659686.98\n",
      "Episode 600\tAverage Score: 17001017.24\n",
      "Episode 650\tAverage Score: 19587159.61\n",
      "Episode 700\tAverage Score: 19417294.34\n",
      "Episode 750\tAverage Score: 18919795.63\n",
      "Episode 800\tAverage Score: 16007325.14\n",
      "Episode 850\tAverage Score: 16316898.67\n",
      "Episode 900\tAverage Score: 18911518.05\n",
      "Episode 950\tAverage Score: 18850770.45\n",
      "Episode 1000\tAverage Score: 16477329.91\n",
      "Episode 1050\tAverage Score: 15448314.29\n",
      "Episode 1100\tAverage Score: 15409115.64\n",
      "Episode 1150\tAverage Score: 14494309.73\n",
      "Episode 1200\tAverage Score: 16205354.97\n",
      "Episode 1250\tAverage Score: 18106246.02\n",
      "Episode 1300\tAverage Score: 17115920.20\n",
      "Episode 1350\tAverage Score: 15297918.64\n",
      "Episode 1400\tAverage Score: 15266853.13\n",
      "Episode 1450\tAverage Score: 15681278.66\n",
      "Episode 1500\tAverage Score: 17087573.78\n",
      "Episode 1550\tAverage Score: 19285671.12\n",
      "Episode 1600\tAverage Score: 17726958.15\n",
      "Episode 1650\tAverage Score: 15135894.70\n",
      "Episode 1700\tAverage Score: 15810111.70\n",
      "Episode 1750\tAverage Score: 15758426.92\n",
      "Episode 1800\tAverage Score: 16954151.51\n",
      "Episode 1850\tAverage Score: 17957426.40\n",
      "Episode 1900\tAverage Score: 16836527.63\n",
      "Episode 1950\tAverage Score: 18044163.11\n",
      "Episode 2000\tAverage Score: 19036319.59\n"
     ]
    }
   ],
   "source": [
    "from dqn import Agent\n",
    "\n",
    "env = Enviroment(portfolio_train, init_money)\n",
    "agent = Agent(state_size=state_space, action_size=action_space, seed=12)\n",
    "\n",
    "def dqn(n_episodes=2000, max_t=1615, eps_start=1.0, eps_end=0.01, eps_decay=0.995):\n",
    "    \"\"\"Deep Q-Learning.\n",
    "    \n",
    "    Params\n",
    "    ======\n",
    "        n_episodes (int): maximum number of training episodes\n",
    "        max_t (int): maximum number of timesteps per episode\n",
    "        eps_start (float): starting value of epsilon, for epsilon-greedy action selection\n",
    "        eps_end (float): minimum value of epsilon\n",
    "        eps_decay (float): multiplicative factor (per episode) for decreasing epsilon\n",
    "    \"\"\"\n",
    "    #This store scores from each episodes\n",
    "    scores = []\n",
    "    #Check last 100 scores as said finished \n",
    "    scores_window = deque(maxlen=100)  \n",
    "    #How epsilon starts, remeber should start big and gradually decay\n",
    "    eps = eps_start\n",
    "    #Iterate through number of episodes\n",
    "    for i_episode in range(1, n_episodes+1):\n",
    "        #start\n",
    "        env_reset = env.reset()\n",
    "        #state\n",
    "        state = np.array(env_reset)\n",
    "        #initialize score to 0\n",
    "        score = 0\n",
    "        #iterate through max number of trainings per episode\n",
    "        for t in range(max_t):\n",
    "            #return action \n",
    "            action = agent.act(state, eps)\n",
    "            #take action\n",
    "            env_reset = env.step(action)\n",
    "            #store state produced by given action\n",
    "            next_state = np.array(env_reset[0])\n",
    "            #store reward\n",
    "            reward = env_reset[1]\n",
    "            #check if done\n",
    "            done = env_reset[-1]\n",
    "            #learn through sampling Replay Buffer\n",
    "            agent.step(state, action, reward, next_state, done)\n",
    "            #Set next_state as state\n",
    "            state = next_state\n",
    "            #Add to score the reward\n",
    "            score += reward\n",
    "            #if done break\n",
    "            if done:\n",
    "                break \n",
    "        scores_window.append(score)       # save most recent score\n",
    "        scores.append(score)              # save most recent score\n",
    "        eps = max(eps_end, eps_decay*eps) # decrease epsilon\n",
    "        print('\\rEpisode {}\\tAverage Score: {:.2f}'.format(i_episode, np.mean(scores_window)), end=\"\")\n",
    "        if i_episode % 50 == 0:\n",
    "            print('\\rEpisode {}\\tAverage Score: {:.2f}'.format(i_episode, np.mean(scores_window)))\n",
    "    torch.save(agent.qnetwork_local.state_dict(), 'checkpoint.pth')\n",
    "    return scores\n",
    "\n",
    "scores = dqn()"
   ]
  },
  {
   "cell_type": "code",
   "execution_count": 6,
   "metadata": {},
   "outputs": [
    {
     "data": {
      "image/png": "[encoded data removed]",
      "text/plain": [
       "<Figure size 432x288 with 1 Axes>"
      ]
     },
     "metadata": {
      "needs_background": "light"
     },
     "output_type": "display_data"
    }
   ],
   "source": [
    "fig = plt.figure()\n",
    "ax = fig.add_subplot(111)\n",
    "plt.plot(np.arange(len(scores)), scores)\n",
    "plt.ylabel('Score')\n",
    "plt.xlabel('Episode #')\n",
    "plt.show()"
   ]
  },
  {
   "cell_type": "code",
   "execution_count": 6,
   "metadata": {},
   "outputs": [
    {
     "name": "stderr",
     "output_type": "stream",
     "text": [
      "/home/mauriciomani/anaconda3/lib/python3.8/site-packages/torch/cuda/__init__.py:52: UserWarning: CUDA initialization: CUDA unknown error - this may be due to an incorrectly set up environment, e.g. changing env variable CUDA_VISIBLE_DEVICES after program start. Setting the available devices to be zero. (Triggered internally at  /opt/conda/conda-bld/pytorch_1603729062494/work/c10/cuda/CUDAFunctions.cpp:100.)\n",
      "  return torch._C._cuda_getDeviceCount() > 0\n"
     ]
    },
    {
     "data": {
      "text/plain": [
       "<All keys matched successfully>"
      ]
     },
     "execution_count": 6,
     "metadata": {},
     "output_type": "execute_result"
    }
   ],
   "source": [
    "from dqn import Agent\n",
    "\n",
    "filename_to_load = 'checkpoint.pth'\n",
    "final_eps = 0.05\n",
    "\n",
    "agent = Agent(state_size=state_space, action_size=action_space, seed=12)\n",
    "#load the saved model from previous training\n",
    "agent.qnetwork_local.load_state_dict(torch.load(filename_to_load))"
   ]
  },
  {
   "cell_type": "code",
   "execution_count": 7,
   "metadata": {},
   "outputs": [
    {
     "name": "stdout",
     "output_type": "stream",
     "text": [
      "Your final score is:\n",
      "533038.0\n"
     ]
    }
   ],
   "source": [
    "env = Enviroment(portfolio_test, init_money)\n",
    "env_info = env.reset()\n",
    "state = np.array(env_info)          \n",
    "score = 0                                         \n",
    "while True:\n",
    "    action = agent.act(state, eps=final_eps)      \n",
    "    env_info = env.step(action)    \n",
    "    next_state = np.array(env_info[0]) \n",
    "    reward = env_info[1]                  \n",
    "    done = env_info[-1]                 \n",
    "    score += reward                               \n",
    "    state = next_state                            \n",
    "    if done:\n",
    "        print(\"Your final score is:\")\n",
    "        print(score)\n",
    "        break"
   ]
  },
  {
   "cell_type": "markdown",
   "metadata": {},
   "source": [
    "### Bigger than 83% form 2000 rewards\n",
    "Remember that doing the random approximation we do not have any strategy to follow, which we have in the reinforcement learning scenario.<br>\n",
    "#### What can we do next?\n",
    "We can connect a stocks historical data API, like the one has been used in this repo to make decisions on those 3 stocks. Basically we only need the adjusted closing price, and that is it, we can make daily decisions."
   ]
  }
 ],
 "metadata": {
  "kernelspec": {
   "display_name": "Python 3",
   "language": "python",
   "name": "python3"
  },
  "language_info": {
   "codemirror_mode": {
    "name": "ipython",
    "version": 3
   },
   "file_extension": ".py",
   "mimetype": "text/x-python",
   "name": "python",
   "nbconvert_exporter": "python",
   "pygments_lexer": "ipython3",
   "version": "3.8.3"
  }
 },
 "nbformat": 4,
 "nbformat_minor": 4
}
